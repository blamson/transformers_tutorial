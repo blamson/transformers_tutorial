{
 "cells": [
  {
   "cell_type": "markdown",
   "id": "430c7c59-a05b-4fcd-95ec-dcaccb4f531a",
   "metadata": {},
   "source": [
    "# Transformers Walkthrough\n",
    "## Author: Brady Lamson\n",
    "\n",
    "This notebook is intended to showcase a basic workflow for finetuning a transformers LLM for `named entity recognition (NER)`. There are many resources online for this but the information I need for this specific workflow is scattered throughout many sources. As such, I thought to consolidate them into something more digestable. For starters, I'll be pulling a lot of information from the [token classification guide](https://huggingface.co/docs/transformers/tasks/token_classification) and the [hyperparameter search tutorial](https://huggingface.co/docs/transformers/hpo_train) from the huggingface docs.\n",
    "\n",
    "This notebook on its own won't really be bringing much new to the table. It serves primarily as a companion piece to a more proper writeup that will be hosted on my main site. I won't be including all of my code there so hopefully this notebook will serve as a good reference as you move through the walkthrough.\n",
    "\n",
    "# The Dataset\n",
    "\n",
    "We'll be using the [CONLL2003 dataset](https://huggingface.co/datasets/conll2003).\n",
    "\n",
    "> The shared task of CoNLL-2003 concerns language-independent named entity recognition. We will concentrate on four types of named entities: persons, locations, organizations and names of miscellaneous entities that do not belong to the previous three groups.\n",
    "> The CoNLL-2003 shared task data files contain four columns separated by a single space. Each word has been put on a separate line and there is an empty line after each sentence. The first item on each line is a word, the second a part-of-speech (POS) tag, the third a syntactic chunk tag and the fourth the named entity tag. The chunk tags and the named entity tags have the format I-TYPE which means that the word is inside a phrase of type TYPE. Only if two phrases of the same type immediately follow each other, the first word of the second phrase will have tag B-TYPE to show that it starts a new phrase. A word with tag O is not part of a phrase. Note the dataset uses IOB2 tagging scheme, whereas the original dataset uses IOB1.\n",
    "\n",
    "This dataset conveniently contains all of the features I need for this tutorial. Obviously in the real world you'll need to put in a sizable amount of effort to getting labeled data and putting it into this format, but that's outside the scope of this tutorial. I at least hope that by showing what I'm working with and explaining what all the various features represent that this will be a less overwhelming task.\n",
    "\n",
    "## Loading the Data\n",
    "\n",
    "We'll be using the huggingface `datasets` library a lot here. It's built specifically for being used with `transformers` and also comes with many datasets we can load in for demonstrations such as this. \n",
    "\n",
    "The dataset we'll be loading in has a TON of rows so I'll be cutting the training split in half for demonstration purposes."
   ]
  },
  {
   "cell_type": "code",
   "execution_count": 1,
   "id": "504b55d7-8d72-4869-89fe-d3273bc5e4b7",
   "metadata": {},
   "outputs": [
    {
     "data": {
      "text/plain": [
       "DatasetDict({\n",
       "    train: Dataset({\n",
       "        features: ['id', 'tokens', 'pos_tags', 'chunk_tags', 'ner_tags'],\n",
       "        num_rows: 7020\n",
       "    })\n",
       "    validation: Dataset({\n",
       "        features: ['id', 'tokens', 'pos_tags', 'chunk_tags', 'ner_tags'],\n",
       "        num_rows: 3250\n",
       "    })\n",
       "    test: Dataset({\n",
       "        features: ['id', 'tokens', 'pos_tags', 'chunk_tags', 'ner_tags'],\n",
       "        num_rows: 3453\n",
       "    })\n",
       "})"
      ]
     },
     "execution_count": 1,
     "metadata": {},
     "output_type": "execute_result"
    }
   ],
   "source": [
    "from datasets import load_dataset\n",
    "\n",
    "dataset = load_dataset(\"conll2003\")\n",
    "dataset[\"train\"] = dataset[\"train\"].train_test_split(test_size=0.5)[\"train\"]\n",
    "dataset"
   ]
  },
  {
   "cell_type": "markdown",
   "id": "0168775a-9183-43a8-af9f-10f1fb7d7fe1",
   "metadata": {},
   "source": [
    "What we can see here is a `DatasetDict` object. This outside object is fairly straightforward, it's a fancy dictionary that can contain any number of `Dataset` objects. For the sake of this demonstration, these `Datasets` are all different splits, or parts of the whole overall dataset.\n",
    "\n",
    "Normally you'd need to split your data and load it into a dataset dictionary yourself, so the organization of this object is helpful to develop some familiarity with so you know what you'll be building towards.\n",
    "\n",
    "First, let's check out an individual row from the training split."
   ]
  },
  {
   "cell_type": "code",
   "execution_count": 2,
   "id": "5a93a2fa-90df-484c-ab4d-2810390f656b",
   "metadata": {},
   "outputs": [
    {
     "data": {
      "text/plain": [
       "{'id': '9703',\n",
       " 'tokens': ['The',\n",
       "  'Bradys',\n",
       "  'walked',\n",
       "  'on',\n",
       "  'to',\n",
       "  'the',\n",
       "  'stage',\n",
       "  ',',\n",
       "  'he',\n",
       "  'on',\n",
       "  'her',\n",
       "  'arm',\n",
       "  'and',\n",
       "  'with',\n",
       "  'the',\n",
       "  'aid',\n",
       "  'of',\n",
       "  'a',\n",
       "  'cane',\n",
       "  ',',\n",
       "  'to',\n",
       "  'a',\n",
       "  'rousing',\n",
       "  'reception',\n",
       "  'from',\n",
       "  'the',\n",
       "  'convention',\n",
       "  '.'],\n",
       " 'pos_tags': [12,\n",
       "  23,\n",
       "  38,\n",
       "  15,\n",
       "  35,\n",
       "  12,\n",
       "  21,\n",
       "  6,\n",
       "  28,\n",
       "  15,\n",
       "  29,\n",
       "  21,\n",
       "  10,\n",
       "  15,\n",
       "  12,\n",
       "  21,\n",
       "  15,\n",
       "  12,\n",
       "  21,\n",
       "  6,\n",
       "  35,\n",
       "  12,\n",
       "  21,\n",
       "  21,\n",
       "  15,\n",
       "  12,\n",
       "  21,\n",
       "  7],\n",
       " 'chunk_tags': [11,\n",
       "  12,\n",
       "  21,\n",
       "  13,\n",
       "  13,\n",
       "  11,\n",
       "  12,\n",
       "  0,\n",
       "  11,\n",
       "  13,\n",
       "  11,\n",
       "  12,\n",
       "  0,\n",
       "  13,\n",
       "  11,\n",
       "  12,\n",
       "  13,\n",
       "  11,\n",
       "  12,\n",
       "  0,\n",
       "  13,\n",
       "  11,\n",
       "  12,\n",
       "  12,\n",
       "  13,\n",
       "  11,\n",
       "  12,\n",
       "  0],\n",
       " 'ner_tags': [0,\n",
       "  1,\n",
       "  0,\n",
       "  0,\n",
       "  0,\n",
       "  0,\n",
       "  0,\n",
       "  0,\n",
       "  0,\n",
       "  0,\n",
       "  0,\n",
       "  0,\n",
       "  0,\n",
       "  0,\n",
       "  0,\n",
       "  0,\n",
       "  0,\n",
       "  0,\n",
       "  0,\n",
       "  0,\n",
       "  0,\n",
       "  0,\n",
       "  0,\n",
       "  0,\n",
       "  0,\n",
       "  0,\n",
       "  0,\n",
       "  0]}"
      ]
     },
     "execution_count": 2,
     "metadata": {},
     "output_type": "execute_result"
    }
   ],
   "source": [
    "dataset[\"train\"][0]"
   ]
  },
  {
   "cell_type": "code",
   "execution_count": 3,
   "id": "c173dc90-4ad9-49af-b458-b0ecd16f4bf7",
   "metadata": {},
   "outputs": [
    {
     "data": {
      "text/plain": [
       "dict_keys(['id', 'tokens', 'pos_tags', 'chunk_tags', 'ner_tags'])"
      ]
     },
     "execution_count": 3,
     "metadata": {},
     "output_type": "execute_result"
    }
   ],
   "source": [
    "dataset[\"train\"].features.keys()"
   ]
  },
  {
   "cell_type": "markdown",
   "id": "4c9d1848-499f-4970-9a8d-bff1776ab7ca",
   "metadata": {},
   "source": [
    "Okay, so what do each of these features represent?\n",
    "\n",
    "- id: Simple index, easy.\n",
    "- tokens: A list containing each token making up a string. \n",
    "- pos_tags: Nothing relevant to our problem set\n",
    "- chunk_tags: Nothing relevant to our problem set\n",
    "- ner_tags: List of integers pertaining to different named entities. This is the one we care about. Index in the list corresponds to the index in tokens. So the first `ner_tag` gives the tag for the first `token`. What do the tags mean?"
   ]
  },
  {
   "cell_type": "code",
   "execution_count": 4,
   "id": "4418d629-69d5-4164-ad52-b954374e0d56",
   "metadata": {},
   "outputs": [
    {
     "data": {
      "text/plain": [
       "Sequence(feature=ClassLabel(names=['O', 'B-PER', 'I-PER', 'B-ORG', 'I-ORG', 'B-LOC', 'I-LOC', 'B-MISC', 'I-MISC'], id=None), length=-1, id=None)"
      ]
     },
     "execution_count": 4,
     "metadata": {},
     "output_type": "execute_result"
    }
   ],
   "source": [
    "dataset[\"train\"].features[\"ner_tags\"]"
   ]
  },
  {
   "cell_type": "markdown",
   "id": "0a987f8c-cb78-4973-ad42-84b6ca77e66c",
   "metadata": {},
   "source": [
    "What we can see here is that the `ner_tags` feature is a `Sequence` of `ClassLabels`. We can now see what each integer tag corresponds to as well which is very important. \n",
    "\n",
    "As for the prefixes, what we have here is IBO formatted data. To explain, I'll simply quote the [token classification tutorial](https://huggingface.co/docs/transformers/tasks/token_classification) straight from the docs:\n",
    "\n",
    ">     B - indicates the beginning of an entity.\n",
    ">     I - indicates a token is contained inside the same entity.\n",
    ">     0 - indicates the token doesn’t correspond to any entity.\n",
    "\n",
    "To further explain `I-`, this is used for multi token entities. So, \"Jane Doe\" would be tokenized into two tokens. \"Jane\" would get the \"B-PER\" label and \"Doe\" would get the \"I-Per\" label.\n",
    "\n",
    "Verifying that the ner_tags make sense for your data is something I cannot stress enough. The data being messed up here can have subtle and disastrous consequences for model training. This is likely to happen when translating *over* to the datasets format so whenever you convert over be sure to double check things all look good. \n",
    "\n",
    "Moving on, let's remove the columns we don't care about, save a list of the class names and get to the next step of the process."
   ]
  },
  {
   "cell_type": "code",
   "execution_count": 5,
   "id": "19067c0c-90ed-49e7-bde6-c17c1cae8849",
   "metadata": {},
   "outputs": [],
   "source": [
    "label_list = dataset[\"train\"].features[\"ner_tags\"].feature.names\n",
    "dataset = dataset.remove_columns(['pos_tags', 'chunk_tags'])"
   ]
  },
  {
   "cell_type": "code",
   "execution_count": 6,
   "id": "f0ca9e3a-8d9f-46fa-ae86-9e29efa19e1e",
   "metadata": {},
   "outputs": [
    {
     "data": {
      "text/plain": [
       "['O', 'B-PER', 'I-PER', 'B-ORG', 'I-ORG', 'B-LOC', 'I-LOC', 'B-MISC', 'I-MISC']"
      ]
     },
     "execution_count": 6,
     "metadata": {},
     "output_type": "execute_result"
    }
   ],
   "source": [
    "label_list"
   ]
  },
  {
   "cell_type": "markdown",
   "id": "2ae028d0-1b17-426d-ae21-6e449443a67d",
   "metadata": {},
   "source": [
    "## Tokenizing the Data\n",
    "\n",
    "The data seems to already be tokenized but it isn't completely. It's been split up, yes, but different models require subtely different formats for their tokenized data. So we'll be throwing our data through the pretrained tokenizer that is built for the model we'll be using.\n",
    "\n",
    "We'll be using [distilbert-base-uncased](https://huggingface.co/distilbert-base-uncased) mostly because it's small so it's great for a quick demo. It's also the same model used in the tutorial from the docs, so those coming from that tutorial should have some comfort there."
   ]
  },
  {
   "cell_type": "code",
   "execution_count": 7,
   "id": "d33c12dc-441a-4fd9-9a09-8320742ae979",
   "metadata": {},
   "outputs": [],
   "source": [
    "from transformers import AutoTokenizer\n",
    "\n",
    "model_name = \"distilbert-base-uncased\"\n",
    "tokenizer = AutoTokenizer.from_pretrained(model_name)"
   ]
  },
  {
   "cell_type": "markdown",
   "id": "f4f8b10d-cfa2-4bf3-839b-96ebf4a44bd6",
   "metadata": {},
   "source": [
    "First, an example in tokenization."
   ]
  },
  {
   "cell_type": "code",
   "execution_count": 8,
   "id": "3b9573b4-9cd4-44bc-960f-5a54351bacb5",
   "metadata": {},
   "outputs": [
    {
     "name": "stdout",
     "output_type": "stream",
     "text": [
      "Original Tokens: ['The', 'Bradys', 'walked', 'on', 'to', 'the', 'stage', ',', 'he', 'on', 'her', 'arm', 'and', 'with', 'the', 'aid', 'of', 'a', 'cane', ',', 'to', 'a', 'rousing', 'reception', 'from', 'the', 'convention', '.']\n",
      "Updated Tokens: ['[CLS]', 'the', 'brady', '##s', 'walked', 'on', 'to', 'the', 'stage', ',', 'he', 'on', 'her', 'arm', 'and', 'with', 'the', 'aid', 'of', 'a', 'cane', ',', 'to', 'a', 'ro', '##using', 'reception', 'from', 'the', 'convention', '.', '[SEP]']\n"
     ]
    }
   ],
   "source": [
    "example_row = dataset[\"train\"][0]\n",
    "tokenized_input = tokenizer(example_row[\"tokens\"], is_split_into_words=True)\n",
    "tokens = tokenizer.convert_ids_to_tokens(tokenized_input[\"input_ids\"])\n",
    "print(f\"Original Tokens: {example_row['tokens']}\")\n",
    "print(f\"Updated Tokens: {tokens}\")"
   ]
  },
  {
   "cell_type": "markdown",
   "id": "dbf06717-8a59-446c-abbe-1c312c377d4b",
   "metadata": {},
   "source": [
    "Few things here. First, we specify `is_split_into_words` as our data is pre split into a list of tokens. Secondly, note the \\[CLS] and \\[SEP] tokens. Those are special tokens that help identify context for distilbert. Next, our tokens are now all lowercase. This is a consequence of using an uncased model. Lastly, as we have new tokens our ner_tags won't be aligned anymore. We need to fix that.\n",
    "\n",
    "Again, we refer to the tutorial here. They provide a function for realigning our data. I'll be modifying it a bit though. Specifically I want to add functionality to label every word part if I want. In some very niche use cases this can be helpful, so it can't hurt to add the option."
   ]
  },
  {
   "cell_type": "code",
   "execution_count": 9,
   "id": "059a2ba6-6fc5-4bc3-a731-d7860761476f",
   "metadata": {},
   "outputs": [],
   "source": [
    "from transformers import PreTrainedTokenizer\n",
    "\n",
    "def tokenize_and_align_labels(examples, tokenizer: PreTrainedTokenizer, label_all_word_parts: bool=False):\n",
    "    \n",
    "    tokenized_inputs = tokenizer(examples[\"tokens\"], truncation=True, is_split_into_words=True)\n",
    "\n",
    "    labels = []\n",
    "    for i, label in enumerate(examples[f\"ner_tags\"]):\n",
    "        word_ids = tokenized_inputs.word_ids(batch_index=i)  # Map tokens to their respective word.\n",
    "        previous_word_idx = None\n",
    "        label_ids = []\n",
    "        for word_idx in word_ids:  # Set the special tokens to -100.\n",
    "            if word_idx is None:\n",
    "                label_ids.append(-100)\n",
    "            # Default behavior only labels the first token of a given word\n",
    "            # But sometimes you may want to label all the word parts for very specific use cases.\n",
    "            elif label_all_word_parts or (word_idx != previous_word_idx):\n",
    "                label_ids.append(label[word_idx])\n",
    "            else:\n",
    "                label_ids.append(-100)\n",
    "            previous_word_idx = word_idx\n",
    "        labels.append(label_ids)\n",
    "\n",
    "    tokenized_inputs[\"labels\"] = labels\n",
    "    return tokenized_inputs"
   ]
  },
  {
   "cell_type": "code",
   "execution_count": 10,
   "id": "0650e1ba-f0e8-4aff-9a0f-791ec8fb02f6",
   "metadata": {},
   "outputs": [
    {
     "data": {
      "application/vnd.jupyter.widget-view+json": {
       "model_id": "d09c7f9b9d524c89835bc8ffc99b9e35",
       "version_major": 2,
       "version_minor": 0
      },
      "text/plain": [
       "Map:   0%|          | 0/7020 [00:00<?, ? examples/s]"
      ]
     },
     "metadata": {},
     "output_type": "display_data"
    },
    {
     "data": {
      "text/plain": [
       "DatasetDict({\n",
       "    train: Dataset({\n",
       "        features: ['id', 'tokens', 'ner_tags', 'input_ids', 'attention_mask', 'labels'],\n",
       "        num_rows: 7020\n",
       "    })\n",
       "    validation: Dataset({\n",
       "        features: ['id', 'tokens', 'ner_tags', 'input_ids', 'attention_mask', 'labels'],\n",
       "        num_rows: 3250\n",
       "    })\n",
       "    test: Dataset({\n",
       "        features: ['id', 'tokens', 'ner_tags', 'input_ids', 'attention_mask', 'labels'],\n",
       "        num_rows: 3453\n",
       "    })\n",
       "})"
      ]
     },
     "execution_count": 10,
     "metadata": {},
     "output_type": "execute_result"
    }
   ],
   "source": [
    "tokenized_ds = dataset.map(\n",
    "    lambda examples: tokenize_and_align_labels(examples, tokenizer=tokenizer),\n",
    "    batched=True\n",
    ")\n",
    "\n",
    "tokenized_ds"
   ]
  },
  {
   "cell_type": "markdown",
   "id": "31f7b6ee-6f9c-4c86-ad02-758c021935f3",
   "metadata": {},
   "source": [
    "Let's see what all these new features represent!"
   ]
  },
  {
   "cell_type": "code",
   "execution_count": 11,
   "id": "73ea9d68-3ded-4623-87ed-5b53dd629889",
   "metadata": {},
   "outputs": [
    {
     "name": "stdout",
     "output_type": "stream",
     "text": [
      "dict_keys(['id', 'tokens', 'ner_tags', 'input_ids', 'attention_mask', 'labels'])\n",
      "input_ids: [101, 1996, 10184, 2015, 2939, 2006, 2000, 1996, 2754, 1010, 2002, 2006, 2014, 2849, 1998, 2007, 1996, 4681, 1997, 1037, 11942, 1010, 2000, 1037, 20996, 18161, 7684, 2013, 1996, 4680, 1012, 102]\n",
      "labels: [-100, 0, 1, -100, 0, 0, 0, 0, 0, 0, 0, 0, 0, 0, 0, 0, 0, 0, 0, 0, 0, 0, 0, 0, 0, -100, 0, 0, 0, 0, 0, -100]\n",
      "attention: [1, 1, 1, 1, 1, 1, 1, 1, 1, 1, 1, 1, 1, 1, 1, 1, 1, 1, 1, 1, 1, 1, 1, 1, 1, 1, 1, 1, 1, 1, 1, 1]\n",
      "\n",
      "translated ids and labels:\n",
      "[CLS] -100\n",
      "the O\n",
      "brady B-PER\n",
      "##s -100\n",
      "walked O\n",
      "on O\n",
      "to O\n",
      "the O\n",
      "stage O\n",
      ", O\n",
      "he O\n",
      "on O\n",
      "her O\n",
      "arm O\n",
      "and O\n",
      "with O\n",
      "the O\n",
      "aid O\n",
      "of O\n",
      "a O\n",
      "cane O\n",
      ", O\n",
      "to O\n",
      "a O\n",
      "ro O\n",
      "##using -100\n",
      "reception O\n",
      "from O\n",
      "the O\n",
      "convention O\n",
      ". O\n",
      "[SEP] -100\n"
     ]
    }
   ],
   "source": [
    "import numpy as np\n",
    "example = tokenized_ds['train'][0]\n",
    "\n",
    "print(example.keys())\n",
    "print(f\"input_ids: {example['input_ids']}\")\n",
    "print(f\"labels: {example['labels']}\")\n",
    "print(f\"attention: {example['attention_mask']}\")\n",
    "decoded_ids = [tokenizer.decode(id) for id in example[\"input_ids\"]]\n",
    "translated_labels = [label_list[label] if label != -100 else label for label in example['labels']]\n",
    "print(\"\\ntranslated ids and labels:\")\n",
    "for i in np.arange(len(example['input_ids'])):\n",
    "    print(decoded_ids[i], translated_labels[i])"
   ]
  },
  {
   "cell_type": "markdown",
   "id": "074a3b89-be32-479c-af37-205629a72947",
   "metadata": {},
   "source": [
    "Let's demystify the new stuff. \n",
    "\n",
    "- input_ids: Tokens translated to numbers by the tokenizer.\n",
    "- attention mask: Does the model pay attention to this token or not? You get 0s here when you start adding padding. A 0 simply means that token will be ignored during training.\n",
    "- labels: updated ner_tags to accomodate special tokens\n",
    "\n",
    "Again, important to translate these numbers back to words so we can verify stuff is working as anticipated. Whenever stuff is changed you need to be confident it was changed correctly. \n",
    "\n",
    "### Sanity Checks\n",
    "\n",
    "What would be bad are inequalities in length for features here. For example, if input_ids has a different length than labels this would break the training process and potentially indicate some deeper issues. "
   ]
  },
  {
   "cell_type": "code",
   "execution_count": 12,
   "id": "4a0f9e46-eb98-4f8b-8857-db7bd51222c5",
   "metadata": {},
   "outputs": [
    {
     "name": "stdout",
     "output_type": "stream",
     "text": [
      "Tokens Length: 28\n",
      "NER Tags Length: 28\n",
      "Input IDs Length: 32\n",
      "Attention Mask Length: 32\n",
      "Labels Length: 32\n",
      "\n",
      "Tokens Length: 21\n",
      "NER Tags Length: 21\n",
      "Input IDs Length: 28\n",
      "Attention Mask Length: 28\n",
      "Labels Length: 28\n",
      "\n",
      "Tokens Length: 8\n",
      "NER Tags Length: 8\n",
      "Input IDs Length: 12\n",
      "Attention Mask Length: 12\n",
      "Labels Length: 12\n",
      "\n",
      "Tokens Length: 9\n",
      "NER Tags Length: 9\n",
      "Input IDs Length: 11\n",
      "Attention Mask Length: 11\n",
      "Labels Length: 11\n",
      "\n",
      "Tokens Length: 20\n",
      "NER Tags Length: 20\n",
      "Input IDs Length: 24\n",
      "Attention Mask Length: 24\n",
      "Labels Length: 24\n",
      "\n"
     ]
    }
   ],
   "source": [
    "for index, example in enumerate(tokenized_ds['train']):\n",
    "    if index < 5:\n",
    "        tokens_length = len(example['tokens'])\n",
    "        ner_tags_length = len(example['ner_tags'])\n",
    "        input_ids_length = len(example['input_ids'])\n",
    "        attention_mask_length = len(example['attention_mask'])\n",
    "        labels_length = len(example['labels'])\n",
    "        \n",
    "        # Print the lengths for each feature in this row\n",
    "        print(f'Tokens Length: {tokens_length}')\n",
    "        print(f'NER Tags Length: {ner_tags_length}')\n",
    "        print(f'Input IDs Length: {input_ids_length}')\n",
    "        print(f'Attention Mask Length: {attention_mask_length}')\n",
    "        print(f'Labels Length: {labels_length}\\n')"
   ]
  },
  {
   "cell_type": "markdown",
   "id": "83334368-7561-4e8a-a4d7-1d65abe77f9c",
   "metadata": {},
   "source": [
    "Quick check seems fine. The old features are the same length and the new features all match as well. I'd recommend a more thorough check but this is just for the sake of demonstration.\n",
    "\n",
    "Now it's time to get into the meat of this operation!\n",
    "\n",
    "# Building the Trainer\n",
    "\n",
    "Alright, now we need to build all the smaller components we need to plug into the `Trainer`\n",
    "\n",
    "We need\n",
    "\n",
    "- Data Collator\n",
    "- Evaluator\n",
    "- id2label and label2id maps\n",
    "- model_init() function\n",
    "- Training arguments\n",
    "\n",
    "I'll cover each as we go."
   ]
  },
  {
   "cell_type": "code",
   "execution_count": 13,
   "id": "b668daeb-1e25-49a2-a621-b2cf73bdd2fd",
   "metadata": {},
   "outputs": [],
   "source": [
    "from transformers import (\n",
    "    DataCollatorForTokenClassification, \n",
    "    AutoModelForTokenClassification, \n",
    "    TrainingArguments, \n",
    "    Trainer, \n",
    "    EarlyStoppingCallback\n",
    ")"
   ]
  },
  {
   "cell_type": "markdown",
   "id": "378e4bae-0f52-4d0d-bd2c-5e7c211a8245",
   "metadata": {},
   "source": [
    "## Data Collator\n",
    "\n",
    "This bad boy is in charge of all things batches. It allows for batch padding as well which is more efficient than just doing a global padding. It takes in our tokenizer."
   ]
  },
  {
   "cell_type": "code",
   "execution_count": 14,
   "id": "cb6ba8a5-6966-4ecd-b711-83fc47eb2e67",
   "metadata": {},
   "outputs": [],
   "source": [
    "data_collator = DataCollatorForTokenClassification(tokenizer=tokenizer)"
   ]
  },
  {
   "cell_type": "markdown",
   "id": "51b84a16-0c61-40f2-9c04-06259b1386e9",
   "metadata": {},
   "source": [
    "## Evaluator: compute_metrics function\n",
    "\n",
    "This object handles how model performance is calculated during training. You can manually create whatever metrics you like and use those to optimize the model. I'll yet again be deferring to the tutorial and using their function. Note that as your problem gets more and more niche that you'll want to consider writing this one yourself. These basic metrics or how they're computed may not fit your needs."
   ]
  },
  {
   "cell_type": "code",
   "execution_count": 15,
   "id": "0bdb30cb-6015-4350-83b4-83bc65a4e704",
   "metadata": {},
   "outputs": [],
   "source": [
    "import evaluate\n",
    "seqeval = evaluate.load(\"seqeval\")\n",
    "\n",
    "# Note: Uses the label_list we created earlier\n",
    "def compute_metrics(p):\n",
    "    predictions, labels = p\n",
    "    predictions = np.argmax(predictions, axis=2)\n",
    "\n",
    "    true_predictions = [\n",
    "        [label_list[p] for (p, l) in zip(prediction, label) if l != -100]\n",
    "        for prediction, label in zip(predictions, labels)\n",
    "    ]\n",
    "    true_labels = [\n",
    "        [label_list[l] for (p, l) in zip(prediction, label) if l != -100]\n",
    "        for prediction, label in zip(predictions, labels)\n",
    "    ]\n",
    "\n",
    "    results = seqeval.compute(predictions=true_predictions, references=true_labels)\n",
    "    return {\n",
    "        \"precision\": results[\"overall_precision\"],\n",
    "        \"recall\": results[\"overall_recall\"],\n",
    "        \"f1\": results[\"overall_f1\"],\n",
    "        \"accuracy\": results[\"overall_accuracy\"],\n",
    "    }"
   ]
  },
  {
   "cell_type": "markdown",
   "id": "483a42d1-90c9-4149-99b9-4d803133ecee",
   "metadata": {},
   "source": [
    "## Id and Label Maps\n",
    "\n",
    "Nothing complicated here, we just need mappings to plug into the trainer."
   ]
  },
  {
   "cell_type": "code",
   "execution_count": 16,
   "id": "da0de5ed-b6f9-4c7f-8f4b-013f13b4cdd0",
   "metadata": {},
   "outputs": [
    {
     "name": "stdout",
     "output_type": "stream",
     "text": [
      "label2id: {'O': 0, 'B-PER': 1, 'I-PER': 2, 'B-ORG': 3, 'I-ORG': 4, 'B-LOC': 5, 'I-LOC': 6, 'B-MISC': 7, 'I-MISC': 8}\n",
      "id2label: {0: 'O', 1: 'B-PER', 2: 'I-PER', 3: 'B-ORG', 4: 'I-ORG', 5: 'B-LOC', 6: 'I-LOC', 7: 'B-MISC', 8: 'I-MISC'}\n"
     ]
    }
   ],
   "source": [
    "label_list\n",
    "\n",
    "label2id = {label: index for index, label in enumerate(label_list)}\n",
    "id2label = {value: key for key, value in label2id.items()}\n",
    "\n",
    "print(f\"label2id: {label2id}\")\n",
    "print(f\"id2label: {id2label}\")"
   ]
  },
  {
   "cell_type": "markdown",
   "id": "83047434-0982-4e7e-9826-2cbd40f308e1",
   "metadata": {},
   "source": [
    "## Model Initializer\n",
    "\n",
    "This step is only necessary if you're using hyperparameter search using the built in trainer method. This allows us to initialize a new model between grid searches."
   ]
  },
  {
   "cell_type": "code",
   "execution_count": 17,
   "id": "13e56383-c3f7-42ae-ae2c-33ad3efdffa3",
   "metadata": {},
   "outputs": [],
   "source": [
    "def model_init():\n",
    "    return AutoModelForTokenClassification.from_pretrained(\n",
    "        model_name, \n",
    "        num_labels=len(id2label.keys()), \n",
    "        id2label=id2label, \n",
    "        label2id=label2id\n",
    "    )"
   ]
  },
  {
   "cell_type": "markdown",
   "id": "26e8a82e-b141-407d-9929-f710a139e364",
   "metadata": {},
   "source": [
    "## Training Arguments\n",
    "\n",
    "Here we set some default behavior for training. Some of these metrics will be changed by grid training. Explaining all of my decisions is outside the scope of this notebook and will be reserved for the official writeup."
   ]
  },
  {
   "cell_type": "code",
   "execution_count": 18,
   "id": "f2a6fafc-0f01-47a2-a187-89efe666bf8b",
   "metadata": {},
   "outputs": [],
   "source": [
    "training_args = TrainingArguments(\n",
    "    output_dir=\"../models/holding_zone\",\n",
    "    learning_rate=2e-5,\n",
    "    per_device_train_batch_size=16,\n",
    "    per_device_eval_batch_size=16,\n",
    "    num_train_epochs=5,\n",
    "    weight_decay=0.01,\n",
    "    logging_strategy=\"epoch\",\n",
    "    evaluation_strategy='epoch',\n",
    "    metric_for_best_model=\"eval_loss\",\n",
    "    save_strategy=\"no\",\n",
    "    push_to_hub=False,\n",
    "    remove_unused_columns=False\n",
    ")"
   ]
  },
  {
   "cell_type": "markdown",
   "id": "e61a7dce-3de9-4fef-889f-1ea12faae90b",
   "metadata": {},
   "source": [
    "## The Trainer\n",
    "\n",
    "Now we plug it all in and remove unnecessary columns. You may notice how I have `remove_unused_columns=False` above. It's because it has wronged me and I do not trust it. It will need to earn my trust again and as of now I will do this myself."
   ]
  },
  {
   "cell_type": "code",
   "execution_count": 19,
   "id": "f0eaa5c8-53a9-4f82-8049-cc70114d7a3e",
   "metadata": {},
   "outputs": [
    {
     "name": "stderr",
     "output_type": "stream",
     "text": [
      "Some weights of DistilBertForTokenClassification were not initialized from the model checkpoint at distilbert-base-uncased and are newly initialized: ['classifier.bias', 'classifier.weight']\n",
      "You should probably TRAIN this model on a down-stream task to be able to use it for predictions and inference.\n"
     ]
    }
   ],
   "source": [
    "trainer = Trainer(\n",
    "    model=None,\n",
    "    args=training_args,\n",
    "    train_dataset=tokenized_ds[\"train\"].remove_columns([\"id\", \"tokens\", \"ner_tags\"]),\n",
    "    eval_dataset=tokenized_ds[\"validation\"].remove_columns([\"id\", \"tokens\", \"ner_tags\"]),\n",
    "    compute_metrics=compute_metrics,\n",
    "    tokenizer=tokenizer,\n",
    "    model_init=model_init,\n",
    "    data_collator=data_collator\n",
    ")"
   ]
  },
  {
   "cell_type": "markdown",
   "id": "fadabf96-d895-40be-9412-dac5afb0a8e9",
   "metadata": {},
   "source": [
    "# Training via Hyperparameter Search\n",
    "\n",
    "Here we'll be using the library `optuna` to setup a hyperparameter space we'll be doing a grid search on. Optuna in particular is helpful here as it is a free alternative to something like `weights and balances` which not all data scientists will have access to. \n",
    "\n",
    "I'll be doing a very basic grid search just as a demonstration of how it's done. Low number of epochs and a very small number of trials with basically arbitrary values for grid search. You'll want to tweak these to your needs."
   ]
  },
  {
   "cell_type": "code",
   "execution_count": 20,
   "id": "6e8efa32-8136-4147-b5b5-ff5faa8f00bf",
   "metadata": {},
   "outputs": [],
   "source": [
    "import optuna\n",
    "\n",
    "def optuna_hp_space(trial):\n",
    "    return {\n",
    "        \"learning_rate\": trial.suggest_float(\"learning_rate\", 2e-5, 5e-5, log=True),\n",
    "        \"per_device_train_batch_size\": trial.suggest_categorical(\"per_device_train_batch_size\", [6, 8, 16]),\n",
    "        \"per_device_eval_batch_size\": trial.suggest_categorical(\"per_device_eval_batch_size\", [6, 8, 16])\n",
    "    }"
   ]
  },
  {
   "cell_type": "code",
   "execution_count": 21,
   "id": "0cb9bb6b-75f1-43aa-95c0-0fa27898d5cf",
   "metadata": {},
   "outputs": [
    {
     "name": "stderr",
     "output_type": "stream",
     "text": [
      "[I 2024-01-17 15:30:43,641] A new study created in memory with name: no-name-bed75a2f-fad5-4f31-8642-8a866e684157\n",
      "Some weights of DistilBertForTokenClassification were not initialized from the model checkpoint at distilbert-base-uncased and are newly initialized: ['classifier.bias', 'classifier.weight']\n",
      "You should probably TRAIN this model on a down-stream task to be able to use it for predictions and inference.\n",
      "You're using a DistilBertTokenizerFast tokenizer. Please note that with a fast tokenizer, using the `__call__` method is faster than using a method to encode the text followed by a call to the `pad` method to get a padded encoding.\n"
     ]
    },
    {
     "data": {
      "text/html": [
       "\n",
       "    <div>\n",
       "      \n",
       "      <progress value='5850' max='5850' style='width:300px; height:20px; vertical-align: middle;'></progress>\n",
       "      [5850/5850 05:48, Epoch 5/5]\n",
       "    </div>\n",
       "    <table border=\"1\" class=\"dataframe\">\n",
       "  <thead>\n",
       " <tr style=\"text-align: left;\">\n",
       "      <th>Epoch</th>\n",
       "      <th>Training Loss</th>\n",
       "      <th>Validation Loss</th>\n",
       "      <th>Precision</th>\n",
       "      <th>Recall</th>\n",
       "      <th>F1</th>\n",
       "      <th>Accuracy</th>\n",
       "    </tr>\n",
       "  </thead>\n",
       "  <tbody>\n",
       "    <tr>\n",
       "      <td>1</td>\n",
       "      <td>0.125200</td>\n",
       "      <td>0.065107</td>\n",
       "      <td>0.881827</td>\n",
       "      <td>0.912992</td>\n",
       "      <td>0.897139</td>\n",
       "      <td>0.981192</td>\n",
       "    </tr>\n",
       "    <tr>\n",
       "      <td>2</td>\n",
       "      <td>0.036200</td>\n",
       "      <td>0.059895</td>\n",
       "      <td>0.923410</td>\n",
       "      <td>0.933356</td>\n",
       "      <td>0.928356</td>\n",
       "      <td>0.985826</td>\n",
       "    </tr>\n",
       "    <tr>\n",
       "      <td>3</td>\n",
       "      <td>0.016000</td>\n",
       "      <td>0.070214</td>\n",
       "      <td>0.925433</td>\n",
       "      <td>0.935712</td>\n",
       "      <td>0.930544</td>\n",
       "      <td>0.986177</td>\n",
       "    </tr>\n",
       "    <tr>\n",
       "      <td>4</td>\n",
       "      <td>0.007900</td>\n",
       "      <td>0.077517</td>\n",
       "      <td>0.930665</td>\n",
       "      <td>0.935207</td>\n",
       "      <td>0.932930</td>\n",
       "      <td>0.986313</td>\n",
       "    </tr>\n",
       "    <tr>\n",
       "      <td>5</td>\n",
       "      <td>0.003700</td>\n",
       "      <td>0.077252</td>\n",
       "      <td>0.928881</td>\n",
       "      <td>0.936385</td>\n",
       "      <td>0.932618</td>\n",
       "      <td>0.986702</td>\n",
       "    </tr>\n",
       "  </tbody>\n",
       "</table><p>"
      ],
      "text/plain": [
       "<IPython.core.display.HTML object>"
      ]
     },
     "metadata": {},
     "output_type": "display_data"
    },
    {
     "name": "stderr",
     "output_type": "stream",
     "text": [
      "[I 2024-01-17 15:36:32,603] Trial 0 finished with value: 3.7845869255014652 and parameters: {'learning_rate': 4.4346114852191666e-05, 'per_device_train_batch_size': 6, 'per_device_eval_batch_size': 6}. Best is trial 0 with value: 3.7845869255014652.\n",
      "Some weights of DistilBertForTokenClassification were not initialized from the model checkpoint at distilbert-base-uncased and are newly initialized: ['classifier.bias', 'classifier.weight']\n",
      "You should probably TRAIN this model on a down-stream task to be able to use it for predictions and inference.\n"
     ]
    },
    {
     "data": {
      "text/html": [
       "\n",
       "    <div>\n",
       "      \n",
       "      <progress value='4390' max='4390' style='width:300px; height:20px; vertical-align: middle;'></progress>\n",
       "      [4390/4390 04:52, Epoch 5/5]\n",
       "    </div>\n",
       "    <table border=\"1\" class=\"dataframe\">\n",
       "  <thead>\n",
       " <tr style=\"text-align: left;\">\n",
       "      <th>Epoch</th>\n",
       "      <th>Training Loss</th>\n",
       "      <th>Validation Loss</th>\n",
       "      <th>Precision</th>\n",
       "      <th>Recall</th>\n",
       "      <th>F1</th>\n",
       "      <th>Accuracy</th>\n",
       "    </tr>\n",
       "  </thead>\n",
       "  <tbody>\n",
       "    <tr>\n",
       "      <td>1</td>\n",
       "      <td>0.132900</td>\n",
       "      <td>0.061144</td>\n",
       "      <td>0.892793</td>\n",
       "      <td>0.919387</td>\n",
       "      <td>0.905895</td>\n",
       "      <td>0.982438</td>\n",
       "    </tr>\n",
       "    <tr>\n",
       "      <td>2</td>\n",
       "      <td>0.034300</td>\n",
       "      <td>0.055900</td>\n",
       "      <td>0.916089</td>\n",
       "      <td>0.933356</td>\n",
       "      <td>0.924642</td>\n",
       "      <td>0.985242</td>\n",
       "    </tr>\n",
       "    <tr>\n",
       "      <td>3</td>\n",
       "      <td>0.016100</td>\n",
       "      <td>0.062788</td>\n",
       "      <td>0.917992</td>\n",
       "      <td>0.932514</td>\n",
       "      <td>0.925196</td>\n",
       "      <td>0.985378</td>\n",
       "    </tr>\n",
       "    <tr>\n",
       "      <td>4</td>\n",
       "      <td>0.007100</td>\n",
       "      <td>0.066858</td>\n",
       "      <td>0.928488</td>\n",
       "      <td>0.937395</td>\n",
       "      <td>0.932920</td>\n",
       "      <td>0.986761</td>\n",
       "    </tr>\n",
       "    <tr>\n",
       "      <td>5</td>\n",
       "      <td>0.004200</td>\n",
       "      <td>0.069384</td>\n",
       "      <td>0.924509</td>\n",
       "      <td>0.935712</td>\n",
       "      <td>0.930077</td>\n",
       "      <td>0.986332</td>\n",
       "    </tr>\n",
       "  </tbody>\n",
       "</table><p>"
      ],
      "text/plain": [
       "<IPython.core.display.HTML object>"
      ]
     },
     "metadata": {},
     "output_type": "display_data"
    },
    {
     "name": "stderr",
     "output_type": "stream",
     "text": [
      "[I 2024-01-17 15:41:25,978] Trial 1 finished with value: 3.7766306161505545 and parameters: {'learning_rate': 4.2960203853290987e-05, 'per_device_train_batch_size': 8, 'per_device_eval_batch_size': 8}. Best is trial 1 with value: 3.7766306161505545.\n",
      "Some weights of DistilBertForTokenClassification were not initialized from the model checkpoint at distilbert-base-uncased and are newly initialized: ['classifier.bias', 'classifier.weight']\n",
      "You should probably TRAIN this model on a down-stream task to be able to use it for predictions and inference.\n"
     ]
    },
    {
     "data": {
      "text/html": [
       "\n",
       "    <div>\n",
       "      \n",
       "      <progress value='5850' max='5850' style='width:300px; height:20px; vertical-align: middle;'></progress>\n",
       "      [5850/5850 05:48, Epoch 5/5]\n",
       "    </div>\n",
       "    <table border=\"1\" class=\"dataframe\">\n",
       "  <thead>\n",
       " <tr style=\"text-align: left;\">\n",
       "      <th>Epoch</th>\n",
       "      <th>Training Loss</th>\n",
       "      <th>Validation Loss</th>\n",
       "      <th>Precision</th>\n",
       "      <th>Recall</th>\n",
       "      <th>F1</th>\n",
       "      <th>Accuracy</th>\n",
       "    </tr>\n",
       "  </thead>\n",
       "  <tbody>\n",
       "    <tr>\n",
       "      <td>1</td>\n",
       "      <td>0.124200</td>\n",
       "      <td>0.066082</td>\n",
       "      <td>0.887310</td>\n",
       "      <td>0.914339</td>\n",
       "      <td>0.900622</td>\n",
       "      <td>0.981192</td>\n",
       "    </tr>\n",
       "    <tr>\n",
       "      <td>2</td>\n",
       "      <td>0.036000</td>\n",
       "      <td>0.064132</td>\n",
       "      <td>0.920373</td>\n",
       "      <td>0.929822</td>\n",
       "      <td>0.925073</td>\n",
       "      <td>0.985067</td>\n",
       "    </tr>\n",
       "    <tr>\n",
       "      <td>3</td>\n",
       "      <td>0.015400</td>\n",
       "      <td>0.071981</td>\n",
       "      <td>0.922259</td>\n",
       "      <td>0.934366</td>\n",
       "      <td>0.928273</td>\n",
       "      <td>0.985670</td>\n",
       "    </tr>\n",
       "    <tr>\n",
       "      <td>4</td>\n",
       "      <td>0.007700</td>\n",
       "      <td>0.077077</td>\n",
       "      <td>0.932485</td>\n",
       "      <td>0.936722</td>\n",
       "      <td>0.934598</td>\n",
       "      <td>0.986488</td>\n",
       "    </tr>\n",
       "    <tr>\n",
       "      <td>5</td>\n",
       "      <td>0.003500</td>\n",
       "      <td>0.074592</td>\n",
       "      <td>0.931374</td>\n",
       "      <td>0.938741</td>\n",
       "      <td>0.935043</td>\n",
       "      <td>0.986897</td>\n",
       "    </tr>\n",
       "  </tbody>\n",
       "</table><p>"
      ],
      "text/plain": [
       "<IPython.core.display.HTML object>"
      ]
     },
     "metadata": {},
     "output_type": "display_data"
    },
    {
     "name": "stderr",
     "output_type": "stream",
     "text": [
      "[I 2024-01-17 15:47:15,324] Trial 2 finished with value: 3.7920554431530977 and parameters: {'learning_rate': 4.596903537722557e-05, 'per_device_train_batch_size': 6, 'per_device_eval_batch_size': 6}. Best is trial 1 with value: 3.7766306161505545.\n"
     ]
    },
    {
     "data": {
      "text/plain": [
       "BestRun(run_id='1', objective=3.7766306161505545, hyperparameters={'learning_rate': 4.2960203853290987e-05, 'per_device_train_batch_size': 8, 'per_device_eval_batch_size': 8}, run_summary=None)"
      ]
     },
     "execution_count": 21,
     "metadata": {},
     "output_type": "execute_result"
    }
   ],
   "source": [
    "best_trial = trainer.hyperparameter_search(\n",
    "    direction=\"minimize\",\n",
    "    backend=\"optuna\",\n",
    "    hp_space=optuna_hp_space,\n",
    "    n_trials=3\n",
    ")\n",
    "\n",
    "best_trial"
   ]
  },
  {
   "cell_type": "code",
   "execution_count": 22,
   "id": "f7140b27-d821-4909-96a4-5744b3da3581",
   "metadata": {},
   "outputs": [
    {
     "data": {
      "text/plain": [
       "{'learning_rate': 4.2960203853290987e-05,\n",
       " 'per_device_train_batch_size': 8,\n",
       " 'per_device_eval_batch_size': 8}"
      ]
     },
     "execution_count": 22,
     "metadata": {},
     "output_type": "execute_result"
    }
   ],
   "source": [
    "best_parameters = best_trial.hyperparameters\n",
    "best_parameters"
   ]
  },
  {
   "cell_type": "code",
   "execution_count": 24,
   "id": "5bb9da32-d6d0-4661-97b9-6d0317f458d9",
   "metadata": {},
   "outputs": [],
   "source": [
    "from torch.cuda import empty_cache\n",
    "empty_cache()"
   ]
  },
  {
   "cell_type": "markdown",
   "id": "c69fc411-e251-4de4-a669-c6260c5c1299",
   "metadata": {},
   "source": [
    "# Training the Final Model\n",
    "\n",
    "We now have the best parameters, so let's train one last time. We'll need to set stuff up a little bit differently for the real deal.\n",
    "\n",
    "For starters, we now want to save our model. Primarily, we'll now save checkpoints at each epoch, especially since we'll only do 5 epochs. I do early stopping here just to show how it's used really.  "
   ]
  },
  {
   "cell_type": "code",
   "execution_count": 26,
   "id": "59cec6cb-2071-4f86-a356-7bd3e38384f5",
   "metadata": {},
   "outputs": [
    {
     "name": "stderr",
     "output_type": "stream",
     "text": [
      "Some weights of DistilBertForTokenClassification were not initialized from the model checkpoint at distilbert-base-uncased and are newly initialized: ['classifier.bias', 'classifier.weight']\n",
      "You should probably TRAIN this model on a down-stream task to be able to use it for predictions and inference.\n"
     ]
    }
   ],
   "source": [
    "training_args = TrainingArguments(\n",
    "    output_dir=\"../models/holding_zone\",\n",
    "    learning_rate=best_parameters['learning_rate'],\n",
    "    per_device_train_batch_size=best_parameters['per_device_train_batch_size'],\n",
    "    per_device_eval_batch_size=best_parameters['per_device_eval_batch_size'],\n",
    "    num_train_epochs=5,\n",
    "    weight_decay=0.01,\n",
    "    logging_strategy=\"epoch\",\n",
    "    evaluation_strategy='epoch',\n",
    "    metric_for_best_model=\"eval_loss\",\n",
    "    push_to_hub=False,\n",
    "    remove_unused_columns=False,\n",
    "    save_strategy=\"epoch\",\n",
    "    save_total_limit=5,\n",
    "    load_best_model_at_end=True\n",
    ")\n",
    "\n",
    "trainer = Trainer(\n",
    "    model=None,\n",
    "    args=training_args,\n",
    "    train_dataset=tokenized_ds[\"train\"].remove_columns([\"id\", \"tokens\", \"ner_tags\"]),\n",
    "    eval_dataset=tokenized_ds[\"validation\"].remove_columns([\"id\", \"tokens\", \"ner_tags\"]),\n",
    "    compute_metrics=compute_metrics,\n",
    "    tokenizer=tokenizer,\n",
    "    model_init=model_init,\n",
    "    data_collator=data_collator,\n",
    "    callbacks = [EarlyStoppingCallback(early_stopping_patience=3)]\n",
    ")"
   ]
  },
  {
   "cell_type": "code",
   "execution_count": 27,
   "id": "eefbdef0-f288-427f-9662-10c29093a801",
   "metadata": {},
   "outputs": [
    {
     "name": "stderr",
     "output_type": "stream",
     "text": [
      "Some weights of DistilBertForTokenClassification were not initialized from the model checkpoint at distilbert-base-uncased and are newly initialized: ['classifier.bias', 'classifier.weight']\n",
      "You should probably TRAIN this model on a down-stream task to be able to use it for predictions and inference.\n"
     ]
    },
    {
     "data": {
      "text/html": [
       "\n",
       "    <div>\n",
       "      \n",
       "      <progress value='4390' max='4390' style='width:300px; height:20px; vertical-align: middle;'></progress>\n",
       "      [4390/4390 05:03, Epoch 5/5]\n",
       "    </div>\n",
       "    <table border=\"1\" class=\"dataframe\">\n",
       "  <thead>\n",
       " <tr style=\"text-align: left;\">\n",
       "      <th>Epoch</th>\n",
       "      <th>Training Loss</th>\n",
       "      <th>Validation Loss</th>\n",
       "      <th>Precision</th>\n",
       "      <th>Recall</th>\n",
       "      <th>F1</th>\n",
       "      <th>Accuracy</th>\n",
       "    </tr>\n",
       "  </thead>\n",
       "  <tbody>\n",
       "    <tr>\n",
       "      <td>1</td>\n",
       "      <td>0.132900</td>\n",
       "      <td>0.061144</td>\n",
       "      <td>0.892793</td>\n",
       "      <td>0.919387</td>\n",
       "      <td>0.905895</td>\n",
       "      <td>0.982438</td>\n",
       "    </tr>\n",
       "    <tr>\n",
       "      <td>2</td>\n",
       "      <td>0.034300</td>\n",
       "      <td>0.055900</td>\n",
       "      <td>0.916089</td>\n",
       "      <td>0.933356</td>\n",
       "      <td>0.924642</td>\n",
       "      <td>0.985242</td>\n",
       "    </tr>\n",
       "    <tr>\n",
       "      <td>3</td>\n",
       "      <td>0.016100</td>\n",
       "      <td>0.062788</td>\n",
       "      <td>0.917992</td>\n",
       "      <td>0.932514</td>\n",
       "      <td>0.925196</td>\n",
       "      <td>0.985378</td>\n",
       "    </tr>\n",
       "    <tr>\n",
       "      <td>4</td>\n",
       "      <td>0.007100</td>\n",
       "      <td>0.066858</td>\n",
       "      <td>0.928488</td>\n",
       "      <td>0.937395</td>\n",
       "      <td>0.932920</td>\n",
       "      <td>0.986761</td>\n",
       "    </tr>\n",
       "    <tr>\n",
       "      <td>5</td>\n",
       "      <td>0.004200</td>\n",
       "      <td>0.069384</td>\n",
       "      <td>0.924509</td>\n",
       "      <td>0.935712</td>\n",
       "      <td>0.930077</td>\n",
       "      <td>0.986332</td>\n",
       "    </tr>\n",
       "  </tbody>\n",
       "</table><p>"
      ],
      "text/plain": [
       "<IPython.core.display.HTML object>"
      ]
     },
     "metadata": {},
     "output_type": "display_data"
    },
    {
     "data": {
      "text/plain": [
       "TrainOutput(global_step=4390, training_loss=0.03892349604865142, metrics={'train_runtime': 303.2442, 'train_samples_per_second': 115.748, 'train_steps_per_second': 14.477, 'total_flos': 374624743872456.0, 'train_loss': 0.03892349604865142, 'epoch': 5.0})"
      ]
     },
     "execution_count": 27,
     "metadata": {},
     "output_type": "execute_result"
    }
   ],
   "source": [
    "trainer.train()"
   ]
  },
  {
   "cell_type": "markdown",
   "id": "a90d1fb6-fc72-4858-be6e-6d9c65fe2f0f",
   "metadata": {},
   "source": [
    "# Trainer Evaluation\n",
    "\n",
    "Let's pretend we didn't have only 5 epochs and needed to gauge how this performed. We can utilize the training logs to create some dataframes and visualizations! \n",
    "\n",
    "## Creating Log Dataframe"
   ]
  },
  {
   "cell_type": "code",
   "execution_count": 35,
   "id": "17b415a2-16c5-4c3f-8951-36773bed3105",
   "metadata": {},
   "outputs": [
    {
     "data": {
      "text/html": [
       "<div>\n",
       "<style scoped>\n",
       "    .dataframe tbody tr th:only-of-type {\n",
       "        vertical-align: middle;\n",
       "    }\n",
       "\n",
       "    .dataframe tbody tr th {\n",
       "        vertical-align: top;\n",
       "    }\n",
       "\n",
       "    .dataframe thead th {\n",
       "        text-align: right;\n",
       "    }\n",
       "</style>\n",
       "<table border=\"1\" class=\"dataframe\">\n",
       "  <thead>\n",
       "    <tr style=\"text-align: right;\">\n",
       "      <th></th>\n",
       "      <th>loss</th>\n",
       "      <th>learning_rate</th>\n",
       "      <th>epoch</th>\n",
       "      <th>step</th>\n",
       "      <th>eval_loss</th>\n",
       "      <th>eval_precision</th>\n",
       "      <th>eval_recall</th>\n",
       "      <th>eval_f1</th>\n",
       "      <th>eval_accuracy</th>\n",
       "      <th>eval_runtime</th>\n",
       "      <th>eval_samples_per_second</th>\n",
       "      <th>eval_steps_per_second</th>\n",
       "    </tr>\n",
       "  </thead>\n",
       "  <tbody>\n",
       "    <tr>\n",
       "      <th>0</th>\n",
       "      <td>0.1329</td>\n",
       "      <td>0.000034</td>\n",
       "      <td>1.0</td>\n",
       "      <td>878</td>\n",
       "      <td>0.061144</td>\n",
       "      <td>0.892793</td>\n",
       "      <td>0.919387</td>\n",
       "      <td>0.905895</td>\n",
       "      <td>0.982438</td>\n",
       "      <td>5.8278</td>\n",
       "      <td>557.669</td>\n",
       "      <td>69.837</td>\n",
       "    </tr>\n",
       "    <tr>\n",
       "      <th>1</th>\n",
       "      <td>0.0343</td>\n",
       "      <td>0.000026</td>\n",
       "      <td>2.0</td>\n",
       "      <td>1756</td>\n",
       "      <td>0.055900</td>\n",
       "      <td>0.916089</td>\n",
       "      <td>0.933356</td>\n",
       "      <td>0.924642</td>\n",
       "      <td>0.985242</td>\n",
       "      <td>5.8321</td>\n",
       "      <td>557.265</td>\n",
       "      <td>69.787</td>\n",
       "    </tr>\n",
       "    <tr>\n",
       "      <th>2</th>\n",
       "      <td>0.0161</td>\n",
       "      <td>0.000017</td>\n",
       "      <td>3.0</td>\n",
       "      <td>2634</td>\n",
       "      <td>0.062788</td>\n",
       "      <td>0.917992</td>\n",
       "      <td>0.932514</td>\n",
       "      <td>0.925196</td>\n",
       "      <td>0.985378</td>\n",
       "      <td>5.8036</td>\n",
       "      <td>559.995</td>\n",
       "      <td>70.129</td>\n",
       "    </tr>\n",
       "    <tr>\n",
       "      <th>3</th>\n",
       "      <td>0.0071</td>\n",
       "      <td>0.000009</td>\n",
       "      <td>4.0</td>\n",
       "      <td>3512</td>\n",
       "      <td>0.066858</td>\n",
       "      <td>0.928488</td>\n",
       "      <td>0.937395</td>\n",
       "      <td>0.932920</td>\n",
       "      <td>0.986761</td>\n",
       "      <td>5.7794</td>\n",
       "      <td>562.337</td>\n",
       "      <td>70.422</td>\n",
       "    </tr>\n",
       "    <tr>\n",
       "      <th>4</th>\n",
       "      <td>0.0042</td>\n",
       "      <td>0.000000</td>\n",
       "      <td>5.0</td>\n",
       "      <td>4390</td>\n",
       "      <td>0.069384</td>\n",
       "      <td>0.924509</td>\n",
       "      <td>0.935712</td>\n",
       "      <td>0.930077</td>\n",
       "      <td>0.986332</td>\n",
       "      <td>5.8567</td>\n",
       "      <td>554.918</td>\n",
       "      <td>69.493</td>\n",
       "    </tr>\n",
       "  </tbody>\n",
       "</table>\n",
       "</div>"
      ],
      "text/plain": [
       "     loss  learning_rate  epoch  step  eval_loss  eval_precision  eval_recall  \\\n",
       "0  0.1329       0.000034    1.0   878   0.061144        0.892793     0.919387   \n",
       "1  0.0343       0.000026    2.0  1756   0.055900        0.916089     0.933356   \n",
       "2  0.0161       0.000017    3.0  2634   0.062788        0.917992     0.932514   \n",
       "3  0.0071       0.000009    4.0  3512   0.066858        0.928488     0.937395   \n",
       "4  0.0042       0.000000    5.0  4390   0.069384        0.924509     0.935712   \n",
       "\n",
       "    eval_f1  eval_accuracy  eval_runtime  eval_samples_per_second  \\\n",
       "0  0.905895       0.982438        5.8278                  557.669   \n",
       "1  0.924642       0.985242        5.8321                  557.265   \n",
       "2  0.925196       0.985378        5.8036                  559.995   \n",
       "3  0.932920       0.986761        5.7794                  562.337   \n",
       "4  0.930077       0.986332        5.8567                  554.918   \n",
       "\n",
       "   eval_steps_per_second  \n",
       "0                 69.837  \n",
       "1                 69.787  \n",
       "2                 70.129  \n",
       "3                 70.422  \n",
       "4                 69.493  "
      ]
     },
     "metadata": {},
     "output_type": "display_data"
    }
   ],
   "source": [
    "import pandas as pd\n",
    "\n",
    "train_logs = []\n",
    "valid_logs = []\n",
    "for index, x in enumerate(trainer.state.log_history):\n",
    "    if 'loss' in x.keys():\n",
    "        train_logs.append(x)\n",
    "    elif 'eval_loss' in x.keys():\n",
    "        valid_logs.append(x)\n",
    "    else:\n",
    "        pass\n",
    "\n",
    "train_logs = pd.DataFrame(train_logs)\n",
    "valid_logs = pd.DataFrame(valid_logs)\n",
    "logs = train_logs.merge(valid_logs, on=[\"epoch\", \"step\"])\n",
    "\n",
    "display(logs)"
   ]
  },
  {
   "cell_type": "code",
   "execution_count": 48,
   "id": "6e42d93a-9698-4757-a2af-99b66ab06146",
   "metadata": {},
   "outputs": [
    {
     "data": {
      "text/plain": [
       "<Axes: title={'center': 'Training and Validation Loss over Epochs'}, xlabel='Epoch', ylabel='Loss'>"
      ]
     },
     "execution_count": 48,
     "metadata": {},
     "output_type": "execute_result"
    },
    {
     "data": {
      "image/png": "[encoded data removed]",
      "text/plain": [
       "<Figure size 640x480 with 1 Axes>"
      ]
     },
     "metadata": {},
     "output_type": "display_data"
    }
   ],
   "source": [
    "(\n",
    "    logs[[\"loss\", \"eval_loss\", \"epoch\"]]\n",
    "    .plot(\n",
    "        kind=\"line\",\n",
    "        x=\"epoch\", \n",
    "        title=\"Training and Validation Loss over Epochs\",\n",
    "        xlabel=\"Epoch\",\n",
    "        ylabel=\"Loss\",\n",
    "        xticks=np.arange(1,6)\n",
    "    )\n",
    ")"
   ]
  },
  {
   "cell_type": "code",
   "execution_count": 47,
   "id": "9a976d30-fa9c-4ed9-bfb8-b1ddd7704693",
   "metadata": {},
   "outputs": [
    {
     "data": {
      "text/plain": [
       "<Axes: title={'center': 'Validation Metrics over Epochs'}, xlabel='Epoch', ylabel='Score'>"
      ]
     },
     "execution_count": 47,
     "metadata": {},
     "output_type": "execute_result"
    },
    {
     "data": {
      "image/png": "[encoded data removed]",
      "text/plain": [
       "<Figure size 640x480 with 1 Axes>"
      ]
     },
     "metadata": {},
     "output_type": "display_data"
    }
   ],
   "source": [
    "(\n",
    "    logs[[\"epoch\", \"eval_precision\", \"eval_recall\", \"eval_f1\", \"eval_accuracy\"]]\n",
    "    .plot(\n",
    "        kind=\"line\",\n",
    "        x=\"epoch\",\n",
    "        title=\"Validation Metrics over Epochs\",\n",
    "        xlabel=\"Epoch\",\n",
    "        ylabel=\"Score\",\n",
    "        xticks=np.arange(1,6)\n",
    "    )\n",
    ")"
   ]
  },
  {
   "cell_type": "markdown",
   "id": "c6d67a67-66ff-4cbd-b054-f37bf46d98fd",
   "metadata": {},
   "source": [
    "We'll go with epoch 2 as the metrics are perfectly high there and I want to avoid any potential overfitting from epochs 3 and on. Hard to gauge if it's genuinely overfitting due to the small number of epochs and how small all the loss scores are, but we'll play it safe. "
   ]
  },
  {
   "cell_type": "markdown",
   "id": "1885c0ec-e12a-495b-af03-179e985f47a1",
   "metadata": {},
   "source": [
    "# Using the Model (Finally)\n",
    "\n",
    "## Building the Pipeline\n",
    "\n",
    "Pipelines are great when you can use them. Normally when you run predictions they're done on each and every token and require some cleanup, but pipelines handle prediction aggregation for you and provide some really clean output."
   ]
  },
  {
   "cell_type": "code",
   "execution_count": 53,
   "id": "b06ab55b-4198-4bc1-9431-5094f873a9af",
   "metadata": {},
   "outputs": [],
   "source": [
    "from transformers import pipeline\n",
    "\n",
    "checkpoint = 1756 # Checkpoint for epoch 2.\n",
    "model_dir = f\"../models/holding_zone/checkpoint-{checkpoint}\"\n",
    "model = AutoModelForTokenClassification.from_pretrained(model_dir)\n",
    "tokenizer = AutoTokenizer.from_pretrained(model_dir)\n",
    "aggregation_strategy = \"average\"\n",
    "pipe = pipeline(\n",
    "    task=\"token-classification\", model=model, tokenizer=tokenizer, aggregation_strategy=aggregation_strategy\n",
    ")"
   ]
  },
  {
   "cell_type": "markdown",
   "id": "63905319-5815-4ab7-bb93-acd77fdb4ead",
   "metadata": {},
   "source": [
    "Here we'll run some predictions and add some extra information for context. The dictionaries at the bottom are the real output of the pipeline."
   ]
  },
  {
   "cell_type": "code",
   "execution_count": 54,
   "id": "acb369f1-db5a-4aa2-8cab-4c069bfecd3f",
   "metadata": {},
   "outputs": [
    {
     "name": "stdout",
     "output_type": "stream",
     "text": [
      "Row: 0\n",
      "Transaction: SOCCER - JAPAN GET LUCKY WIN , CHINA IN SURPRISE DEFEAT .\n",
      "Actual NER tags: ['O', 'O', 'B-LOC', 'O', 'O', 'O', 'O', 'B-PER', 'O', 'O', 'O', 'O']\n",
      "{'entity_group': 'LOC', 'score': 0.99867, 'word': 'japan', 'start': 9, 'end': 14}\n",
      "{'entity_group': 'LOC', 'score': 0.99866974, 'word': 'china', 'start': 31, 'end': 36}\n",
      "\n",
      "\n",
      "Row: 1\n",
      "Transaction: Nadim Ladki\n",
      "Actual NER tags: ['B-PER', 'I-PER']\n",
      "{'entity_group': 'PER', 'score': 0.89792097, 'word': 'nadim ladki', 'start': 0, 'end': 11}\n",
      "\n",
      "\n",
      "Row: 2\n",
      "Transaction: AL-AIN , United Arab Emirates 1996-12-06\n",
      "Actual NER tags: ['B-LOC', 'O', 'B-LOC', 'I-LOC', 'I-LOC', 'O']\n",
      "{'entity_group': 'LOC', 'score': 0.95205337, 'word': 'al - ain', 'start': 0, 'end': 6}\n",
      "{'entity_group': 'LOC', 'score': 0.99500734, 'word': 'united arab emirates', 'start': 9, 'end': 29}\n",
      "\n",
      "\n",
      "Row: 3\n",
      "Transaction: Japan began the defence of their Asian Cup title with a lucky 2-1 win against Syria in a Group C championship match on Friday .\n",
      "Actual NER tags: ['B-LOC', 'O', 'O', 'O', 'O', 'O', 'B-MISC', 'I-MISC', 'O', 'O', 'O', 'O', 'O', 'O', 'O', 'B-LOC', 'O', 'O', 'O', 'O', 'O', 'O', 'O', 'O', 'O']\n",
      "{'entity_group': 'LOC', 'score': 0.9985221, 'word': 'japan', 'start': 0, 'end': 5}\n",
      "{'entity_group': 'MISC', 'score': 0.98925483, 'word': 'asian cup', 'start': 33, 'end': 42}\n",
      "{'entity_group': 'LOC', 'score': 0.9985801, 'word': 'syria', 'start': 78, 'end': 83}\n",
      "\n",
      "\n",
      "Row: 4\n",
      "Transaction: But China saw their luck desert them in the second match of the group , crashing to a surprise 2-0 defeat to newcomers Uzbekistan .\n",
      "Actual NER tags: ['O', 'B-LOC', 'O', 'O', 'O', 'O', 'O', 'O', 'O', 'O', 'O', 'O', 'O', 'O', 'O', 'O', 'O', 'O', 'O', 'O', 'O', 'O', 'O', 'B-LOC', 'O']\n",
      "{'entity_group': 'LOC', 'score': 0.9985563, 'word': 'china', 'start': 4, 'end': 9}\n",
      "{'entity_group': 'LOC', 'score': 0.9988122, 'word': 'uzbekistan', 'start': 119, 'end': 129}\n",
      "\n",
      "\n"
     ]
    }
   ],
   "source": [
    "for index, row in enumerate(tokenized_ds[\"test\"]):\n",
    "    if index < 5:\n",
    "        text = \" \".join(row[\"tokens\"])\n",
    "        othertags = [id2label[id] for id in row[\"ner_tags\"]]\n",
    "        pipe_output = pipe(text)\n",
    "        print(f\"Row: {index}\")\n",
    "        print(f\"Transaction: {text}\")\n",
    "        print(f\"Actual NER tags: {othertags}\")\n",
    "        for output in pipe_output:\n",
    "            print(output)\n",
    "        print(\"\\n\")"
   ]
  },
  {
   "cell_type": "markdown",
   "id": "fd2693b8-fc5f-4ed2-aa0c-0866d0bbbd6a",
   "metadata": {},
   "source": [
    "# Test Evaluation"
   ]
  },
  {
   "cell_type": "code",
   "execution_count": 55,
   "id": "5024806c-64b0-4a1f-ae9c-93c9e48b7e2b",
   "metadata": {},
   "outputs": [
    {
     "data": {
      "application/vnd.jupyter.widget-view+json": {
       "model_id": "364ceff1daf54ad18b0610cc71578a95",
       "version_major": 2,
       "version_minor": 0
      },
      "text/plain": [
       "Map:   0%|          | 0/3453 [00:00<?, ? examples/s]"
      ]
     },
     "metadata": {},
     "output_type": "display_data"
    },
    {
     "data": {
      "text/plain": [
       "{'LOC': {'precision': 0.9088182363527294,\n",
       "  'recall': 0.908273381294964,\n",
       "  'f1': 0.9085457271364317,\n",
       "  'number': 1668},\n",
       " 'MISC': {'precision': 0.7337837837837838,\n",
       "  'recall': 0.7735042735042735,\n",
       "  'f1': 0.753120665742025,\n",
       "  'number': 702},\n",
       " 'ORG': {'precision': 0.8,\n",
       "  'recall': 0.8741721854304636,\n",
       "  'f1': 0.8354430379746836,\n",
       "  'number': 1661},\n",
       " 'PER': {'precision': 0.9592986850344396,\n",
       "  'recall': 0.9474335188620903,\n",
       "  'f1': 0.9533291848164281,\n",
       "  'number': 1617},\n",
       " 'overall_precision': 0.8664719023887266,\n",
       " 'overall_recall': 0.8927053824362606,\n",
       " 'overall_f1': 0.8793930408999738,\n",
       " 'overall_accuracy': 0.9754926240982018,\n",
       " 'total_time_in_seconds': 85.87057160699987,\n",
       " 'samples_per_second': 40.21168061863144,\n",
       " 'latency_in_seconds': 0.024868396063423073}"
      ]
     },
     "execution_count": 55,
     "metadata": {},
     "output_type": "execute_result"
    }
   ],
   "source": [
    "from evaluate import evaluator\n",
    "\n",
    "task_evaluator = evaluator(\"token-classification\")\n",
    "pipe = pipeline(\n",
    "    task=\"token-classification\", model=model, tokenizer=tokenizer\n",
    ")\n",
    "\n",
    "results = task_evaluator.compute(\n",
    "    model_or_pipeline=pipe,\n",
    "    data=tokenized_ds[\"test\"],\n",
    "    metric=\"seqeval\",\n",
    "    input_column=\"tokens\",\n",
    "    label_column=\"ner_tags\",\n",
    "    join_by=\" \"\n",
    ")\n",
    "results"
   ]
  },
  {
   "cell_type": "markdown",
   "id": "fbb384b3-9176-45f7-ab47-79c4223e1134",
   "metadata": {},
   "source": [
    "This is a lot to take in, let me clean this up a bit so we can create some visualizations here."
   ]
  },
  {
   "cell_type": "code",
   "execution_count": 68,
   "id": "cb716dd3-5fdb-472e-b6f4-e0a84185c69d",
   "metadata": {},
   "outputs": [
    {
     "data": {
      "text/plain": [
       "{'LOC': {'precision': 0.9088182363527294,\n",
       "  'recall': 0.908273381294964,\n",
       "  'f1': 0.9085457271364317,\n",
       "  'number': 1668},\n",
       " 'MISC': {'precision': 0.7337837837837838,\n",
       "  'recall': 0.7735042735042735,\n",
       "  'f1': 0.753120665742025,\n",
       "  'number': 702},\n",
       " 'ORG': {'precision': 0.8,\n",
       "  'recall': 0.8741721854304636,\n",
       "  'f1': 0.8354430379746836,\n",
       "  'number': 1661},\n",
       " 'PER': {'precision': 0.9592986850344396,\n",
       "  'recall': 0.9474335188620903,\n",
       "  'f1': 0.9533291848164281,\n",
       "  'number': 1617},\n",
       " 'OVERALL': {'precision': 0.8664719023887266,\n",
       "  'recall': 0.8927053824362606,\n",
       "  'f1': 0.8793930408999738,\n",
       "  'number': nan}}"
      ]
     },
     "execution_count": 68,
     "metadata": {},
     "output_type": "execute_result"
    }
   ],
   "source": [
    "overall_metrics = { \n",
    "    \"OVERALL\": {\n",
    "        \"precision\": results[\"overall_precision\"],\n",
    "        \"recall\": results[\"overall_recall\"],\n",
    "        \"f1\": results[\"overall_f1\"],\n",
    "        \"number\": np.NaN\n",
    "    }\n",
    "}\n",
    "\n",
    "keys_to_keep = [\"LOC\", \"MISC\", \"ORG\", \"PER\"]\n",
    "metrics = {key: results[key] for key in keys_to_keep if key in results}\n",
    "metrics.update(overall_metrics)\n",
    "metrics"
   ]
  },
  {
   "cell_type": "code",
   "execution_count": 81,
   "id": "a6eb1e52-613c-4d77-bdf0-a75ac2fc1dc7",
   "metadata": {},
   "outputs": [
    {
     "data": {
      "text/html": [
       "<div>\n",
       "<style scoped>\n",
       "    .dataframe tbody tr th:only-of-type {\n",
       "        vertical-align: middle;\n",
       "    }\n",
       "\n",
       "    .dataframe tbody tr th {\n",
       "        vertical-align: top;\n",
       "    }\n",
       "\n",
       "    .dataframe thead th {\n",
       "        text-align: right;\n",
       "    }\n",
       "</style>\n",
       "<table border=\"1\" class=\"dataframe\">\n",
       "  <thead>\n",
       "    <tr style=\"text-align: right;\">\n",
       "      <th></th>\n",
       "      <th>precision</th>\n",
       "      <th>recall</th>\n",
       "      <th>f1</th>\n",
       "      <th>number</th>\n",
       "    </tr>\n",
       "  </thead>\n",
       "  <tbody>\n",
       "    <tr>\n",
       "      <th>LOC</th>\n",
       "      <td>0.908818</td>\n",
       "      <td>0.908273</td>\n",
       "      <td>0.908546</td>\n",
       "      <td>1668.0</td>\n",
       "    </tr>\n",
       "    <tr>\n",
       "      <th>MISC</th>\n",
       "      <td>0.733784</td>\n",
       "      <td>0.773504</td>\n",
       "      <td>0.753121</td>\n",
       "      <td>702.0</td>\n",
       "    </tr>\n",
       "    <tr>\n",
       "      <th>ORG</th>\n",
       "      <td>0.800000</td>\n",
       "      <td>0.874172</td>\n",
       "      <td>0.835443</td>\n",
       "      <td>1661.0</td>\n",
       "    </tr>\n",
       "    <tr>\n",
       "      <th>PER</th>\n",
       "      <td>0.959299</td>\n",
       "      <td>0.947434</td>\n",
       "      <td>0.953329</td>\n",
       "      <td>1617.0</td>\n",
       "    </tr>\n",
       "    <tr>\n",
       "      <th>OVERALL</th>\n",
       "      <td>0.866472</td>\n",
       "      <td>0.892705</td>\n",
       "      <td>0.879393</td>\n",
       "      <td>NaN</td>\n",
       "    </tr>\n",
       "  </tbody>\n",
       "</table>\n",
       "</div>"
      ],
      "text/plain": [
       "         precision    recall        f1  number\n",
       "LOC       0.908818  0.908273  0.908546  1668.0\n",
       "MISC      0.733784  0.773504  0.753121   702.0\n",
       "ORG       0.800000  0.874172  0.835443  1661.0\n",
       "PER       0.959299  0.947434  0.953329  1617.0\n",
       "OVERALL   0.866472  0.892705  0.879393     NaN"
      ]
     },
     "execution_count": 81,
     "metadata": {},
     "output_type": "execute_result"
    }
   ],
   "source": [
    "metric_df = (\n",
    "    pd.DataFrame(metrics)\n",
    "    .transpose()\n",
    ")\n",
    "metric_df"
   ]
  },
  {
   "cell_type": "code",
   "execution_count": 84,
   "id": "dc63ac2e-b4d9-4009-8208-a897103847d2",
   "metadata": {},
   "outputs": [
    {
     "data": {
      "text/plain": [
       "<matplotlib.legend.Legend at 0x7f6b09b62e10>"
      ]
     },
     "execution_count": 84,
     "metadata": {},
     "output_type": "execute_result"
    },
    {
     "data": {
      "image/png": "[encoded data removed]",
      "text/plain": [
       "<Figure size 640x480 with 1 Axes>"
      ]
     },
     "metadata": {},
     "output_type": "display_data"
    }
   ],
   "source": [
    "(\n",
    "    metric_df\n",
    "    .drop([\"number\"], axis=1)\n",
    "    .plot(\n",
    "        kind=\"barh\",\n",
    "        title=\"Testing Metrics per Entity\",\n",
    "        xlabel=\"Score\"\n",
    "    )\n",
    "    .legend(bbox_to_anchor=(1,1))\n",
    ")"
   ]
  },
  {
   "cell_type": "code",
   "execution_count": 89,
   "id": "1a270a02-ad89-4656-8c3a-2320bfb13869",
   "metadata": {},
   "outputs": [
    {
     "data": {
      "text/plain": [
       "<Axes: title={'center': 'Frequency of each Entity'}>"
      ]
     },
     "execution_count": 89,
     "metadata": {},
     "output_type": "execute_result"
    },
    {
     "data": {
      "image/png": "[encoded data removed]",
      "text/plain": [
       "<Figure size 640x480 with 1 Axes>"
      ]
     },
     "metadata": {},
     "output_type": "display_data"
    }
   ],
   "source": [
    "(\n",
    "    metric_df[\"number\"]\n",
    "    .drop('OVERALL')\n",
    "    .plot(\n",
    "        kind=\"barh\",\n",
    "        title=\"Frequency of each Entity\"\n",
    "    )\n",
    ")"
   ]
  },
  {
   "cell_type": "markdown",
   "id": "bb1ab674-0334-441e-b80a-fbaf31bfaf7e",
   "metadata": {},
   "source": [
    "# Conclusion\n",
    "\n",
    "I hope this notebook provides a good reference for future use. We went through every step from loading in the data to evaluating a model against the testing split. There is some information this can't provide, such as manipulating data in a different format into a dataset object, but that'll just have to be a different tutorial for another time!  "
   ]
  }
 ],
 "metadata": {
  "kernelspec": {
   "display_name": "Python 3 (ipykernel)",
   "language": "python",
   "name": "python3"
  },
  "language_info": {
   "codemirror_mode": {
    "name": "ipython",
    "version": 3
   },
   "file_extension": ".py",
   "mimetype": "text/x-python",
   "name": "python",
   "nbconvert_exporter": "python",
   "pygments_lexer": "ipython3",
   "version": "3.11.6"
  }
 },
 "nbformat": 4,
 "nbformat_minor": 5
}
